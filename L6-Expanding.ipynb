{
 "cells": [
  {
   "cell_type": "markdown",
   "source": [
    "# Lession 6 - 文本内容扩展"
   ],
   "metadata": {
    "collapsed": false,
    "pycharm": {
     "name": "#%% md\n"
    }
   }
  },
  {
   "cell_type": "markdown",
   "source": [
    "作为生成式大模型，LLM可以轻松将短文本内容（说明或主题）拓展为长文本内容，例如电子邮件、论文等。但是这种方法也有可能会被用来产生大量垃圾内容，因此请在使用时以负责任且无害的方式进行使用。"
   ],
   "metadata": {
    "collapsed": false,
    "pycharm": {
     "name": "#%% md\n"
    }
   }
  },
  {
   "cell_type": "code",
   "execution_count": 4,
   "outputs": [],
   "source": [
    "import openai\n",
    "import os\n",
    "\n",
    "os.environ[\"http_proxy\"] = \"http://127.0.0.1:<端口号>\"\n",
    "os.environ[\"https_proxy\"] = \"http://127.0.0.1:<端口号>\"\n",
    "\n",
    "openai.api_key  = 'sk-'\n",
    "\n",
    "def get_completion(prompt, model=\"gpt-3.5-turbo\", temperature=0):\n",
    "    '''\n",
    "    prompt: 对应的提示\n",
    "    model: 调用的模型，默认为 gpt-3.5-turbo(ChatGPT)，有内测资格的用户可以选择 gpt-4\n",
    "    '''\n",
    "    messages = [{\"role\": \"user\", \"content\": prompt}]\n",
    "    response = openai.ChatCompletion.create(\n",
    "        model=model,\n",
    "        messages=messages,\n",
    "        temperature=temperature, # 模型输出的温度系数，控制输出的随机程度\n",
    "    )\n",
    "    # 调用 OpenAI 的 ChatCompletion 接口\n",
    "    return response.choices[0].message[\"content\"]"
   ],
   "metadata": {
    "collapsed": false,
    "pycharm": {
     "name": "#%%\n"
    }
   }
  },
  {
   "cell_type": "markdown",
   "source": [
    "## 1. 邮件内容生成"
   ],
   "metadata": {
    "collapsed": false,
    "pycharm": {
     "name": "#%% md\n"
    }
   }
  },
  {
   "cell_type": "markdown",
   "source": [
    "给定客户评价和情感，并生成自定义响应即使用 LLM 根据客户评价和评论情感生成定制电子邮件。"
   ],
   "metadata": {
    "collapsed": false,
    "pycharm": {
     "name": "#%% md\n"
    }
   }
  },
  {
   "cell_type": "code",
   "execution_count": 2,
   "outputs": [],
   "source": [
    "# 我们可以在推理那章学习到如何对一个评论判断其情感倾向\n",
    "sentiment = \"Positive\"\n",
    "\n",
    "# 一个产品的评价\n",
    "review = f\"\"\"\n",
    "先说商品质量：产品总体不错，包装严实 \\\n",
    "再说商家服务：点赞啦 \\\n",
    "最后点评快递：发货很快 \\\n",
    "其他就是感谢店家打折送券活动，毕竟便宜好货更实在 \\\n",
    "希望店家多多优惠，及时通知老客户，促成回购 \\\n",
    "祝生意兴隆\n",
    "\"\"\""
   ],
   "metadata": {
    "collapsed": false,
    "pycharm": {
     "name": "#%%\n"
    }
   }
  },
  {
   "cell_type": "code",
   "execution_count": 3,
   "outputs": [
    {
     "name": "stdout",
     "output_type": "stream",
     "text": [
      "尊敬的客户，\n",
      "\n",
      "非常感谢您对我们产品的评价和支持。我们很高兴听到您对我们的商品质量和包装的肯定。同时，我们也很感激您对我们的商家服务的赞扬，这是我们一直努力追求的目标。\n",
      "\n",
      "我们也很高兴听到您对我们的快递服务的满意评价。我们一直致力于为客户提供快速和可靠的配送服务。\n",
      "\n",
      "最后，我们非常感谢您对我们的打折送券活动的支持。我们会继续努力提供更多的优惠活动，并及时通知我们的老客户。我们希望您能继续支持我们，让我们一起成长。\n",
      "\n",
      "再次感谢您的评价和支持，祝您生意兴隆！\n",
      "\n",
      "AI客户代理\n"
     ]
    }
   ],
   "source": [
    "prompt = f\"\"\"\n",
    "你是一位客户服务的AI助手。\n",
    "你的任务是给一位重要客户发送邮件回复。\n",
    "根据客户通过“```”分隔的评价，生成回复以感谢客户的评价。提醒模型使用评价中的具体细节\n",
    "用简明而专业的语气写信。\n",
    "作为“AI客户代理”签署电子邮件。\n",
    "客户评论：\n",
    "```{review}```\n",
    "评论情感：{sentiment}\n",
    "\"\"\"\n",
    "response = get_completion(prompt)\n",
    "print(response)"
   ],
   "metadata": {
    "collapsed": false,
    "pycharm": {
     "name": "#%%\n"
    }
   }
  },
  {
   "cell_type": "markdown",
   "source": [
    "## 2. 温度系数"
   ],
   "metadata": {
    "collapsed": false,
    "pycharm": {
     "name": "#%% md\n"
    }
   }
  },
  {
   "cell_type": "markdown",
   "source": [
    "**温度系数** 这个参数在一些训练任务中并不陌生，通过该参数，可以很方便的改变模型的响应结果，获得更具多样性的内容，因此 **温度系数** 也可以理解为探索模型随机性的程度。"
   ],
   "metadata": {
    "collapsed": false,
    "pycharm": {
     "name": "#%% md\n"
    }
   }
  },
  {
   "cell_type": "markdown",
   "source": [
    "在补全一些短语时，通常温度系数为0时，模型总是会选择最有可能的下一个词，但随着温度的增高，模型则会生成更多的单词来进行响应，即视这些单词并非概率最高的一个。因此通常情况下，为了保证结果的可靠与可预测，通常会在构建程序时选择将温度设置为零。但是如果想要模型生成更加广泛且具有创意的内容，可以尝试为模型设置更高的温度。"
   ],
   "metadata": {
    "collapsed": false,
    "pycharm": {
     "name": "#%% md\n"
    }
   }
  },
  {
   "cell_type": "code",
   "execution_count": 5,
   "outputs": [
    {
     "name": "stdout",
     "output_type": "stream",
     "text": [
      "尊敬的客户，\n",
      "\n",
      "非常感谢您对我们产品的认可和好评。我们一直以来都致力于提供高质量的商品和优质的服务，您的肯定是我们最大的动力。\n",
      "\n",
      "同时，我们也非常感谢您对我们店家的打折送券活动的支持。我们将继续努力提供更多优惠和优质的商品，并及时通知老客户，促成回购。\n",
      "\n",
      "再次感谢您的支持和信任，祝您生意兴隆！\n",
      "\n",
      "AI客户代理\n"
     ]
    }
   ],
   "source": [
    "prompt = f\"\"\"\n",
    "你是一位客户服务的AI助手。\n",
    "你的任务是给一位重要客户发送邮件回复。\n",
    "根据客户通过“```”分隔的评价，生成回复以感谢客户的评价。提醒模型使用评价中的具体细节\n",
    "用简明而专业的语气写信。\n",
    "作为“AI客户代理”签署电子邮件。\n",
    "客户评论：\n",
    "```{review}```\n",
    "评论情感：{sentiment}\n",
    "\"\"\"\n",
    "response = get_completion(prompt, temperature=0.7)\n",
    "print(response)"
   ],
   "metadata": {
    "collapsed": false,
    "pycharm": {
     "name": "#%%\n"
    }
   }
  }
 ],
 "metadata": {
  "kernelspec": {
   "display_name": "Python 3",
   "language": "python",
   "name": "python3"
  },
  "language_info": {
   "codemirror_mode": {
    "name": "ipython",
    "version": 2
   },
   "file_extension": ".py",
   "mimetype": "text/x-python",
   "name": "python",
   "nbconvert_exporter": "python",
   "pygments_lexer": "ipython2",
   "version": "2.7.6"
  }
 },
 "nbformat": 4,
 "nbformat_minor": 0
}